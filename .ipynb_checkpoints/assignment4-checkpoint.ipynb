{
 "cells": [
  {
   "cell_type": "code",
   "execution_count": null,
   "id": "a4f5c720-b464-425c-b0b2-4d72e4dcea8a",
   "metadata": {},
   "outputs": [],
   "source": [
    "Add your import statements and the database connection statements in the below code block\n",
    "\n",
    "Database file path: /course/data/CSE-578/dinofunworld.db"
   ]
  },
  {
   "cell_type": "code",
   "execution_count": null,
   "id": "87150481-0c25-484c-a560-2f51afdd1a5c",
   "metadata": {},
   "outputs": [],
   "source": [
    "# your code here\n",
    "import sqlite3\n",
    "import pandas as pd\n",
    "import matplotlib.pyplot as plt\n",
    "import numpy as np\n",
    "file_path = '/course/data/CSE-578/dinofunworld.db'\n",
    "conn = sqlite3. connect(file_path)\n",
    "cur = conn.cursor()"
   ]
  },
  {
   "cell_type": "code",
   "execution_count": null,
   "id": "3a014345-1158-4664-b379-c6813f4f460e",
   "metadata": {},
   "outputs": [],
   "source": [
    "Question 1:\n",
    "Create and display a control chart showing attendance at the ride 'Atmosfear' over the data provided. In the control chart, display the attendance, the mean attendance, and bands for one and two standard deviations away from the average.\n",
    "\n",
    "Note:\n",
    "\n",
    "For this question, display the control chart in the notebook and print the mean attendance and standard deviation values as a list. For example: [mean, standard_deviation]\n",
    "Create a single Control chart that displays the mean, standard deviation, and attendance, adhering to the specified line style and color as outlined below.\n",
    "Mean: 'g-'\n",
    "+2 STD and -2 STD: 'r-'\n",
    "+STD and -STD: 'y-'\n",
    "Attendance: 'b-'\n",
    "The Control Chart should also have the below mentioned parameters,\n",
    "legend that displays the mean and standard deviation adhering to the specified line and color. Note: Legend should be outside the plot.\n",
    "title named 'Control Chart of attendance at Atmosfear'\n",
    "x-label ('Time in minutes') and y-label ('Attendance')\n",
    "The plot must not have the following parameters,\n",
    "do not set figure size\n",
    "do not set font size or font-weight for titles and labels"
   ]
  },
  {
   "cell_type": "code",
   "execution_count": null,
   "id": "efc6719f-6045-4736-abf0-feb58981c62a",
   "metadata": {},
   "outputs": [],
   "source": [
    "### TEST FUNCTION: test_question1\n",
    "# DO NOT REMOVE OR MODIFY THE ABOVE LINE\n",
    "# your code here\n",
    "# Get attraction ID for Atmosfear\n",
    "cur.execute(\"SELECT attractionId FROM attraction WHERE Name = 'Atmosfear';\")\n",
    "attractionID = cur.fetchone()[0]\n",
    "\n",
    "# Get visitor sequences containing the attraction ID\n",
    "cur.execute(\"SELECT visitorID, sequence FROM sequences WHERE sequence LIKE ?;\", (f'%{attractionID}%',))\n",
    "sequences = cur.fetchall()\n",
    "\n",
    "# Process sequences into a DataFrame\n",
    "sequence_stats = pd.DataFrame.from_records(sequences, columns=['visitor', 'sequence'])\n",
    "sequence_stats['sequence_list'] = sequence_stats['sequence'].apply(lambda s: [1 if x == str(attractionID) else 0 for x in s.split('-')])\n",
    "\n",
    "# Calculate attendance at each time interval\n",
    "attendance = np.sum(sequence_stats['sequence_list'].values.tolist(), axis=0)\n",
    "\n",
    "# Compute mean and standard deviation\n",
    "mean = np.nanmean(attendance)\n",
    "std = np.nanstd(attendance)\n",
    "\n",
    "# Generate x-axis values (assuming 5-minute intervals)\n",
    "x_axis_list = range(0, len(attendance) * 5, 5)\n",
    "\n",
    "# Plot control chart\n",
    "plt.plot(x_axis_list, [mean + 2 * std] * len(attendance), 'r-', label='+2 STD')\n",
    "plt.plot(x_axis_list, [mean - 2 * std] * len(attendance), 'r-', label='-2 STD')\n",
    "plt.plot(x_axis_list, [mean + std] * len(attendance), 'y-', label='+1 STD')\n",
    "plt.plot(x_axis_list, [mean - std] * len(attendance), 'y-', label='-1 STD')\n",
    "plt.plot(x_axis_list, [mean] * len(attendance), 'g-', label='Mean')\n",
    "plt.plot(x_axis_list, attendance, 'b-', label='Attendance')\n",
    "\n",
    "# Labels and title\n",
    "plt.xlabel('Time in minutes')\n",
    "plt.ylabel('Attendance')\n",
    "plt.title('Control Chart of attendance at Atmosfear')\n",
    "\n",
    "# Legend (placed outside the plot)\n",
    "plt.legend(loc='upper left', bbox_to_anchor=(1, 1))\n",
    "\n",
    "# Display plot\n",
    "plt.show()\n",
    "\n",
    "# Print mean and standard deviation as a list\n",
    "# Convert numpy floats to standard Python floats and print as a list\n",
    "print([float(mean), float(std)])\n"
   ]
  },
  {
   "cell_type": "code",
   "execution_count": null,
   "id": "ffa05785-2f18-496e-828a-cb5c8be38ce9",
   "metadata": {},
   "outputs": [],
   "source": [
    "Question 2:\n",
    "Create and display a moving average chart of the attendance at 'Atmosfear' over the data provided. Use a window size of 50 for this moving average.\n",
    "\n",
    "Note:\n",
    "\n",
    "The Moving Average Chart should have the below mentioned parameters,\n",
    "set mode to 'same' while performing convolution\n",
    "title named 'Moving Average Chart of attendance at Atmosfear'\n",
    "x-label ('Time in minutes') and y-label ('Attendance')\n",
    "The plot must not have the following parameters,\n",
    "legend\n",
    "do not set figure size\n",
    "do not set font size or font-weight for titles and labels"
   ]
  },
  {
   "cell_type": "code",
   "execution_count": null,
   "id": "1d528ffa-d1a5-409f-bb9e-c4a17f7a6454",
   "metadata": {},
   "outputs": [],
   "source": [
    "### TEST FUNCTION: test_question2\n",
    "# DO NOT REMOVE OR MODIFY THE ABOVE LINE\n",
    "# your code here\n",
    "# Moving Average Chart\n",
    "window_size = 50\n",
    "moving_avg = np.convolve(attendance, np.ones(window_size) / window_size, mode='same')\n",
    "\n",
    "# Plot moving average\n",
    "plt.plot(x_axis_list, moving_avg, 'b-')\n",
    "plt.ylabel('Attendance')\n",
    "plt.xlabel('Time in minutes')\n",
    "plt.title('Moving Average Chart of attendance at Atmosfear')\n",
    "\n",
    "# Display plot\n",
    "plt.show()"
   ]
  },
  {
   "cell_type": "code",
   "execution_count": null,
   "id": "e5374116-826b-4fb5-8c3b-185ac0571b66",
   "metadata": {},
   "outputs": [],
   "source": [
    "Question 3:\n",
    "Create and display an exponentially-weighted moving average chart of the attendance at 'Atmosfear' over the data provided. Again, use a window size of 50 for this weighted moving average.\n",
    "\n",
    "Note:\n",
    "\n",
    "The Weighted Moving Average Chart should have the below mentioned parameters,\n",
    "title named 'Exponentially Weighted Moving Average Chart of the attendance at Atmosfear'\n",
    "x-label ('Time in minutes') and y-label ('Attendance')\n",
    "The plot must not have the following parameters,\n",
    "legend\n",
    "do not set figure size\n",
    "do not set font size or font-weight for titles and labels"
   ]
  },
  {
   "cell_type": "code",
   "execution_count": null,
   "id": "c6c3442e-361f-45f7-b174-e842902b9aff",
   "metadata": {},
   "outputs": [],
   "source": [
    "### TEST FUNCTION: test_question3\n",
    "# DO NOT REMOVE OR MODIFY THE ABOVE LINE\n",
    "# your code here\n",
    "# Exponentially Weighted Moving Average Chart\n",
    "span = 50\n",
    "df_exp = pd.DataFrame(data=attendance).ewm(span=span).mean()\n",
    "\n",
    "# Plot exponentially weighted moving average\n",
    "plt.plot(x_axis_list, df_exp, 'b-')\n",
    "plt.ylabel('Attendance')\n",
    "plt.xlabel('Time in minutes')\n",
    "plt.title('Exponentially Weighted Moving Average Chart of the attendance at Atmosfear')\n",
    "\n",
    "# Display plot\n",
    "plt.show()\n"
   ]
  },
  {
   "cell_type": "code",
   "execution_count": null,
   "id": "c751649c-6e08-4af8-9e93-cf5e4f90d0bb",
   "metadata": {},
   "outputs": [],
   "source": []
  }
 ],
 "metadata": {
  "kernelspec": {
   "display_name": "Python 3 (ipykernel)",
   "language": "python",
   "name": "python3"
  },
  "language_info": {
   "codemirror_mode": {
    "name": "ipython",
    "version": 3
   },
   "file_extension": ".py",
   "mimetype": "text/x-python",
   "name": "python",
   "nbconvert_exporter": "python",
   "pygments_lexer": "ipython3",
   "version": "3.12.7"
  }
 },
 "nbformat": 4,
 "nbformat_minor": 5
}
