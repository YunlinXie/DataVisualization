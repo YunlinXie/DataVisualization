{
 "cells": [
  {
   "cell_type": "code",
   "execution_count": null,
   "id": "a0ab765e-8552-4e82-8086-f2b9ddd125bc",
   "metadata": {},
   "outputs": [],
   "source": [
    "Add your import statements and the database connection statements in the below code block"
   ]
  },
  {
   "cell_type": "code",
   "execution_count": null,
   "id": "73d833f5-f43b-4237-ba3c-c66e96be3024",
   "metadata": {},
   "outputs": [],
   "source": [
    "import geopandas as gpd\n",
    "import libpysal as lps\n",
    "import numpy as np\n",
    "import matplotlib.pyplot as plt\n",
    "from esda.moran import Moran\n",
    "from libpysal.weights import Rook"
   ]
  },
  {
   "cell_type": "code",
   "execution_count": null,
   "id": "ebb3c97a-376d-4ece-97e4-3c4d08aee4a8",
   "metadata": {},
   "outputs": [],
   "source": [
    "Question 1:\n",
    "Using the Libpysal Data, create a choropleth path of the United States that depicts the per capita income of each US state in 2009.\n",
    "\n",
    "Note:\n",
    "\n",
    "The Libpysal and GeoPandas libraries both contain utility functions that may make this task easier.\n",
    "The choropleth map should have the following parameters:\n",
    "legend\n",
    "Title should be 'Per Capita Income of US States on Choropleth Map'\n",
    "xlabel should be 'US Income'\n",
    "Do not set font size or font-weight for titles and labels and figure size for the plot."
   ]
  },
  {
   "cell_type": "code",
   "execution_count": null,
   "id": "cc4f47d9-3209-4926-9d66-9e9efe3c8193",
   "metadata": {},
   "outputs": [],
   "source": [
    "# Load per capita income data\n",
    "per_cap_data = lps.io.open(lps.examples.get_path(\"usjoin.csv\"))\n",
    "\n",
    "# Load US states shapefile\n",
    "us_df = gpd.read_file(lps.examples.get_path(\"us48.shp\"))\n",
    "\n",
    "# Assign per capita income to dataframe\n",
    "us_df['per_cap'] = np.array(per_cap_data.by_col(\"2009\"))\n",
    "\n",
    "# Plot the choropleth map\n",
    "us_df.plot(column=\"per_cap\", cmap=\"OrRd\", legend=True, edgecolor=\"black\")\n",
    "\n",
    "# Add title and labels\n",
    "plt.title(\"Per Capita Income of US States on Choropleth Map\")\n",
    "plt.xlabel(\"US Income\")\n",
    "\n",
    "# Show the plot\n",
    "plt.show()"
   ]
  },
  {
   "cell_type": "code",
   "execution_count": null,
   "id": "a454c5f4-1b75-4605-a7ac-2c5af2b93e58",
   "metadata": {},
   "outputs": [],
   "source": [
    "Question 2:\n",
    "Again using the Libpysal Data, create a proportional symbol map showing a dot at the centroid of each state that is scaled to the per capita income of each US state in 2009.\n",
    "\n",
    "Note:\n",
    "\n",
    "The demonstration notebook for this unit contains code that performs a similar task and may be a useful reference for your assignment.\n",
    "The proportional symbol map should have the following parameters:\n",
    "Title should be 'Proportional Symbol Map'\n",
    "xlabel should be 'US Income'\n",
    "Do not set font size or font-weight for titles and labels and figure size for the plot."
   ]
  },
  {
   "cell_type": "code",
   "execution_count": null,
   "id": "916f5ba3-4e84-4e4d-8bb2-e8b67b77fcc3",
   "metadata": {},
   "outputs": [],
   "source": [
    "# Compute centroids of each state\n",
    "us_df['centroid'] = us_df.geometry.centroid\n",
    "\n",
    "# Extract x and y coordinates of centroids\n",
    "us_df['x'] = us_df.centroid.x\n",
    "us_df['y'] = us_df.centroid.y\n",
    "\n",
    "# Plot the base map\n",
    "fig, ax = plt.subplots()\n",
    "us_df.plot(ax=ax, color='lightgrey', edgecolor='black', legend=True)\n",
    "\n",
    "# Plot proportional symbols\n",
    "plt.scatter(us_df['x'], us_df['y'], s=us_df['per_cap'] / 500, color='red', alpha=0.6, edgecolors='black')\n",
    "\n",
    "# Add title and labels\n",
    "plt.title(\"Proportional Symbol Map\")\n",
    "plt.xlabel(\"US Income\")\n",
    "\n",
    "# Show the plot\n",
    "plt.show()\n"
   ]
  },
  {
   "cell_type": "code",
   "execution_count": null,
   "id": "cc3a9a4b-5d99-42da-8278-1654d9ec1e2f",
   "metadata": {},
   "outputs": [],
   "source": [
    "Question 3:\n",
    "Using the same data, compute the value of Moran's I for the per capita income of each US state in 2009 using Rook Continuity. Report the value of I rounded to 4 decimal places (i.e. x.XXXX)\n",
    "\n",
    "Note:\n",
    "\n",
    "You need to merge the two datasets and then apply Rook Continuity\n",
    "Use the esda library to calculate the Moran's value.\n",
    "To calculate Moran’s I, you need two things: the value of interest (y) and a weight matrix (w).\n",
    "Print only the calculated Moran's value rounded to 4 in the code cell below.\n",
    "There should only be one print statement in the below cell."
   ]
  },
  {
   "cell_type": "code",
   "execution_count": null,
   "id": "85cc2fee-09fd-49a9-bc87-ebca0344dae0",
   "metadata": {},
   "outputs": [],
   "source": [
    "# Print available column names for debugging\n",
    "# print(per_cap_data.header)\n",
    "\n",
    "# Merge the datasets using the correct column name\n",
    "income_df = gpd.GeoDataFrame({'STATE_NAME': per_cap_data.by_col(\"Name\"),  # Corrected column name\n",
    "                              'per_cap': np.array(per_cap_data.by_col(\"2009\"))})\n",
    "\n",
    "# Drop existing per_cap column if it exists to avoid merge conflicts\n",
    "if \"per_cap\" in us_df.columns:\n",
    "    us_df = us_df.drop(columns=[\"per_cap\"])\n",
    "\n",
    "us_df = us_df.merge(income_df, on=\"STATE_NAME\", how=\"left\")\n",
    "\n",
    "# Compute Rook Continuity weight matrix\n",
    "w = Rook.from_dataframe(us_df, use_index=True)\n",
    "w.transform = \"R\"\n",
    "\n",
    "# Compute Moran's I\n",
    "moran = Moran(us_df[\"per_cap\"].fillna(0), w)\n",
    "\n",
    "# Print the Moran's I value rounded to 4 decimal places\n",
    "print(round(moran.I, 4))"
   ]
  },
  {
   "cell_type": "code",
   "execution_count": null,
   "id": "8d0a4afe-049c-4121-abe3-0a7145a1d473",
   "metadata": {},
   "outputs": [],
   "source": []
  }
 ],
 "metadata": {
  "kernelspec": {
   "display_name": "Python 3 (ipykernel)",
   "language": "python",
   "name": "python3"
  },
  "language_info": {
   "codemirror_mode": {
    "name": "ipython",
    "version": 3
   },
   "file_extension": ".py",
   "mimetype": "text/x-python",
   "name": "python",
   "nbconvert_exporter": "python",
   "pygments_lexer": "ipython3",
   "version": "3.12.7"
  }
 },
 "nbformat": 4,
 "nbformat_minor": 5
}
